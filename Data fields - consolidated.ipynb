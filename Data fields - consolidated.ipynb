{
 "cells": [
  {
   "cell_type": "code",
   "execution_count": null,
   "id": "498885c4",
   "metadata": {},
   "outputs": [],
   "source": [
    "import pandas as pd\n",
    "fields_df= pd.read_csv(r\"C:\\Users\\HikeOn - Sudhanva\\Downloads\\Unadded SKUs to amazon- 415 - Fields (2).csv\")\n",
    "fields_df"
   ]
  },
  {
   "cell_type": "code",
   "execution_count": null,
   "id": "c87380b3",
   "metadata": {},
   "outputs": [],
   "source": [
    "unique_values=pd.DataFrame(unique_values)\n",
    "pd.set_option('display.max_rows', None)"
   ]
  },
  {
   "cell_type": "code",
   "execution_count": null,
   "id": "48dc117d",
   "metadata": {},
   "outputs": [],
   "source": [
    "import pandas as pd\n",
    "\n",
    "# Sample DataFrame creation (you can replace this with your actual DataFrame)\n",
    "# fields_df = pd.read_csv('your_file.csv')\n",
    "\n",
    "# Create a dictionary to store unique non-null values for each column\n",
    "unique_non_null_values = {}\n",
    "\n",
    "# Function to process each string\n",
    "def process_string(s):\n",
    "    # Convert first letter to uppercase\n",
    "    s = s.capitalize()\n",
    "    # Replace '_' with ' ' and capitalize the following letter\n",
    "    new_s = ''\n",
    "    i = 0\n",
    "    while i < len(s):\n",
    "        if s[i] == '_':\n",
    "            if i + 1 < len(s):\n",
    "                new_s += ' ' + s[i + 1].upper()\n",
    "                i += 1\n",
    "            else:\n",
    "                new_s += ' '\n",
    "        else:\n",
    "            new_s += s[i]\n",
    "        i += 1\n",
    "    return new_s\n",
    "\n",
    "# Iterate through each column\n",
    "for column in fields_df.columns:\n",
    "    # Fetch non-null values from the column\n",
    "    non_null_values = fields_df[column].dropna()\n",
    "    \n",
    "    # Get unique non-null values\n",
    "    unique_values = non_null_values.unique()\n",
    "    \n",
    "    # Process each unique value and ensure it is a string\n",
    "    processed_values = [process_string(str(val)) for val in unique_values]\n",
    "    \n",
    "    # Ensure only unique processed values are kept by using a set\n",
    "    unique_processed_values = list(set(processed_values))\n",
    "    \n",
    "    # Store the unique processed values in the dictionary\n",
    "    unique_non_null_values[column] = unique_processed_values\n",
    "\n",
    "# Now unique_non_null_values contains the processed unique non-null values for each column\n"
   ]
  },
  {
   "cell_type": "code",
   "execution_count": null,
   "id": "adbec943",
   "metadata": {},
   "outputs": [],
   "source": [
    "\n",
    "# Step 1: Extract all lists of values from the dictionary\n",
    "all_values = [value for values_list in unique_non_null_values.values() for value in values_list]\n",
    "\n",
    "# Step 2: Convert to a set to remove duplicates\n",
    "unique_values = set(all_values)\n",
    "\n",
    "# Step 3: Convert back to a list (if necessary) and sort it\n",
    "unique_values_list = sorted(unique_values)\n",
    "\n",
    "# Print the unique values\n",
    "unique_values_list"
   ]
  },
  {
   "cell_type": "code",
   "execution_count": null,
   "id": "a108ea74",
   "metadata": {},
   "outputs": [],
   "source": [
    "len(unique_values_list)"
   ]
  },
  {
   "cell_type": "code",
   "execution_count": null,
   "id": "71e76584",
   "metadata": {},
   "outputs": [],
   "source": []
  }
 ],
 "metadata": {
  "kernelspec": {
   "display_name": "Python 3 (ipykernel)",
   "language": "python",
   "name": "python3"
  },
  "language_info": {
   "codemirror_mode": {
    "name": "ipython",
    "version": 3
   },
   "file_extension": ".py",
   "mimetype": "text/x-python",
   "name": "python",
   "nbconvert_exporter": "python",
   "pygments_lexer": "ipython3",
   "version": "3.11.5"
  }
 },
 "nbformat": 4,
 "nbformat_minor": 5
}
