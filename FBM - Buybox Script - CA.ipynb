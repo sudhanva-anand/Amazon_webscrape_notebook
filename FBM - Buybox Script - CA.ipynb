{
 "cells": [
  {
   "cell_type": "code",
   "execution_count": null,
   "metadata": {},
   "outputs": [],
   "source": [
    "import openpyxl\n",
    "import pandas as pd\n",
    "import datetime\n",
    "# Get the current date\n",
    "current_date = datetime.datetime.now().strftime(\"%Y-%m-%d\")\n",
    "price_df1= pd.read_excel(rf\"C:\\Users\\sudha\\Amazon validation script/webscrape_catalog-CA as on {current_date}.xlsx\") \n",
    "price_df1"
   ]
  },
  {
   "cell_type": "code",
   "execution_count": null,
   "metadata": {},
   "outputs": [],
   "source": [
    "import pandas as pd\n",
    "\n",
    "# Assuming review_check_df and review_check_df1 are already defined\n",
    "price_df = pd.concat([price_df1], ignore_index=True)\n",
    "\n",
    "# # Remove duplicate rows based on the 'ASIN' column\n",
    "# price_df = price_df.drop_duplicates(subset='ASIN')\n",
    "\n",
    "# Check the number of rows to ensure correctness\n",
    "print(f\"Number of rows after removing duplicates based on 'ASIN': {price_df.shape[0]}\")\n",
    "\n",
    "price_df"
   ]
  },
  {
   "cell_type": "code",
   "execution_count": null,
   "metadata": {},
   "outputs": [],
   "source": [
    "import pandas as pd\n",
    "\n",
    "# Assuming your DataFrame is named `df` and the price column is named 'Price'\n",
    "\n",
    "# Remove newline characters and excessive spaces\n",
    "price_df['Price'] = price_df['Price'].str.replace(r'\\n', '', regex=True)  # Remove newline characters\n",
    "price_df['Price'] = price_df['Price'].str.replace(r'\\s+', '', regex=True)  # Remove any excessive whitespace\n",
    "\n",
    "# If the price is in a format like \"$174..53\", we need to handle this\n",
    "# Replace '..' with a single '.' to correct the format\n",
    "price_df['Price'] = price_df['Price'].str.replace(r'\\.\\.', '.', regex=True)\n",
    "price_df = price_df[['ASIN','Title', 'Price','buybox_owner']]\n",
    "# Verify the changes\n",
    "print(price_df[['ASIN','Title', 'Price','buybox_owner']])"
   ]
  },
  {
   "cell_type": "code",
   "execution_count": null,
   "metadata": {},
   "outputs": [],
   "source": [
    "import re\n",
    "# Define refined regex patterns for 'Sold by'\n",
    "sold_by_primary_pattern = r\"Sold by.*?<span.*?>(?:<a.*?>)?\\s*(.*?)\\s*<\"\n",
    "sold_by_fallback_pattern = r\"Sold by.*?<span.*?>.*?<a.*?>\\s*(.*?)\\s*</\"\n",
    "\n",
    "ships_from_pattern = r\"Ships from.*?<span.*?>(?:<a.*?>)?\\s*(.*?)\\s*<\"\n",
    "\n",
    "\n",
    "# Function to extract the first match for 'Sold by' with primary and fallback pattern\n",
    "def extract_sold_by(text, primary_pattern, fallback_pattern):\n",
    "    if isinstance(text, str):  # Ensure input is a string\n",
    "        # Check if the primary pattern matches\n",
    "        primary_match = re.findall(primary_pattern, text, re.DOTALL)\n",
    "        if primary_match and primary_match[0].strip():  # Ensure match is not empty or just whitespace\n",
    "            print(f\"Primary pattern matched: {primary_match[0]}\")  # Log primary match\n",
    "            return primary_match[0]  # Return the first match from primary pattern\n",
    "        else:\n",
    "            # Fallback when primary pattern fails or when value is nan or empty\n",
    "            print(\"Primary pattern did not match. Applying fallback pattern.\")  # Log fallback use\n",
    "            fallback_match = re.findall(fallback_pattern, text, re.DOTALL)\n",
    "            if fallback_match:\n",
    "                print(f\"Fallback pattern matched: {fallback_match[0]}\")  # Log fallback match\n",
    "                return fallback_match[0]  # Return the first match from fallback pattern\n",
    "    return None\n",
    "\n",
    "# Function to extract the first match for 'Sold by' and 'Ships from'\n",
    "def extract_value(text, pattern):\n",
    "    if isinstance(text, str):  # Ensure input is a string\n",
    "        matches = re.findall(pattern, text, re.DOTALL)  # Find all matches\n",
    "        if matches:\n",
    "            return matches[0]  # Return the first match\n",
    "    return None\n",
    "\n",
    "\n",
    "# Apply extraction logic to each row\n",
    "price_df['Sold by'] = price_df['buybox_owner'].apply(lambda x: extract_sold_by(x, sold_by_primary_pattern, sold_by_fallback_pattern))\n",
    "price_df['Ships from'] = price_df['buybox_owner'].apply(lambda x: extract_value(x, ships_from_pattern))\n",
    "\n",
    "price_df= price_df[['ASIN','Title', 'Price','Sold by','Ships from']]\n",
    "# Display the updated DataFrame\n",
    "\n",
    "price_df"
   ]
  },
  {
   "cell_type": "code",
   "execution_count": null,
   "metadata": {},
   "outputs": [],
   "source": [
    "current_date = datetime.datetime.now().strftime(\"%Y-%m-%d\")\n",
    "price_df.to_excel(f'buybox_owner-CA as on {current_date}.xlsx',index=False)"
   ]
  }
 ],
 "metadata": {
  "kernelspec": {
   "display_name": "base",
   "language": "python",
   "name": "python3"
  },
  "language_info": {
   "codemirror_mode": {
    "name": "ipython",
    "version": 3
   },
   "file_extension": ".py",
   "mimetype": "text/x-python",
   "name": "python",
   "nbconvert_exporter": "python",
   "pygments_lexer": "ipython3",
   "version": "3.12.7"
  }
 },
 "nbformat": 4,
 "nbformat_minor": 2
}
